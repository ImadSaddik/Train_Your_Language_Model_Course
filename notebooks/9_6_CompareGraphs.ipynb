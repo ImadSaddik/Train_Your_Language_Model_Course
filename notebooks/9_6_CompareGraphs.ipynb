{
 "cells": [
  {
   "cell_type": "markdown",
   "id": "f6cd669e",
   "metadata": {},
   "source": [
    "## Load data helper function"
   ]
  },
  {
   "cell_type": "code",
   "execution_count": null,
   "id": "54a7319e",
   "metadata": {},
   "outputs": [],
   "source": [
    "import pickle\n",
    "\n",
    "\n",
    "def load_loss_values(folder_name: str, is_train: bool) -> list[float]:\n",
    "    file_prefix = \"train\" if is_train else \"val\"\n",
    "    file_path = f\"../loss_values/{folder_name}/{file_prefix}_losses.pkl\"\n",
    "    with open(file_path, \"rb\") as f:\n",
    "        loss_values = pickle.load(f)\n",
    "    return loss_values"
   ]
  },
  {
   "cell_type": "markdown",
   "id": "30180024",
   "metadata": {},
   "source": [
    "## Comparisons"
   ]
  },
  {
   "cell_type": "markdown",
   "id": "09cf9379",
   "metadata": {},
   "source": [
    "### 1. Positional encoding"
   ]
  },
  {
   "cell_type": "markdown",
   "id": "b6c8891c",
   "metadata": {},
   "source": [
    "#### 1.1. Load the data"
   ]
  },
  {
   "cell_type": "code",
   "execution_count": 5,
   "id": "3014739e",
   "metadata": {},
   "outputs": [],
   "source": [
    "positional_encodings = {\n",
    "    \"absolute\": {\n",
    "        \"train\": load_loss_values(\"absolute_positional_encoding\", True),\n",
    "        \"val\": load_loss_values(\"absolute_positional_encoding\", False),\n",
    "    },\n",
    "    \"relative\": {\n",
    "        \"train\": load_loss_values(\"relative_positional_encoding\", True),\n",
    "        \"val\": load_loss_values(\"relative_positional_encoding\", False),\n",
    "    },\n",
    "    \"sinusoidal\": {\n",
    "        \"train\": load_loss_values(\"sinusoidal_positional_encoding\", True),\n",
    "        \"val\": load_loss_values(\"sinusoidal_positional_encoding\", False),\n",
    "    },\n",
    "    \"none\": {\n",
    "        \"train\": load_loss_values(\"no_positional_encoding\", True),\n",
    "        \"val\": load_loss_values(\"no_positional_encoding\", False),\n",
    "    },\n",
    "    \"rope\": {\n",
    "        \"train\": load_loss_values(\"rope\", True),\n",
    "        \"val\": load_loss_values(\"rope\", False),\n",
    "    },\n",
    "}"
   ]
  },
  {
   "cell_type": "markdown",
   "id": "8d12661d",
   "metadata": {},
   "source": [
    "#### 1.2. Helper function to plot the data"
   ]
  },
  {
   "cell_type": "code",
   "execution_count": 28,
   "id": "376c8953",
   "metadata": {},
   "outputs": [],
   "source": [
    "import numpy as np\n",
    "import plotly.graph_objects as go\n",
    "\n",
    "from plotly.graph_objs._figure import Figure\n",
    "from plotly.subplots import make_subplots\n",
    "\n",
    "\n",
    "def plot_positional_encodings_losses(\n",
    "    line_configs: list[dict],\n",
    "    iterations: np.ndarray,\n",
    "    title: str,\n",
    "    xaxis_title: str,\n",
    "    yaxis_title: str,\n",
    "    width: int = 1200,\n",
    "    height: int = 700,\n",
    "    yaxis_range: list[float] = [],\n",
    "    save_figure: bool = False,\n",
    ") -> Figure:\n",
    "    figure = make_subplots(specs=[[{\"secondary_y\": True}]])\n",
    "\n",
    "    for config in line_configs:\n",
    "        figure.add_trace(\n",
    "            go.Scatter(\n",
    "                x=iterations,\n",
    "                y=config[\"data\"],\n",
    "                mode=\"lines+markers\",\n",
    "                name=config[\"name\"],\n",
    "                hovertemplate=\"<b>Iteration</b>: %{x}<br><b>Loss</b>: %{y:.4f}<br>\",\n",
    "                line=dict(\n",
    "                    color=config[\"color\"], width=config[\"width\"], dash=config[\"dash\"]\n",
    "                ),\n",
    "                marker=dict(\n",
    "                    symbol=config[\"marker_symbol\"],\n",
    "                    size=8,\n",
    "                    color=config[\"color\"],\n",
    "                    line=dict(width=1, color=\"black\"),\n",
    "                ),\n",
    "            ),\n",
    "            secondary_y=False,\n",
    "        )\n",
    "\n",
    "    figure.update_layout(\n",
    "        font=dict(family=\"Arial\", size=14, color=\"black\"),\n",
    "        title={\n",
    "            \"text\": title,\n",
    "            \"y\": 0.95,\n",
    "            \"x\": 0.5,\n",
    "            \"xanchor\": \"center\",\n",
    "            \"yanchor\": \"top\",\n",
    "            \"font\": dict(size=18),\n",
    "        },\n",
    "        autosize=False,\n",
    "        width=width,\n",
    "        height=height,\n",
    "        margin=dict(l=80, r=50, b=150, t=100, pad=10),\n",
    "        showlegend=True,\n",
    "        xaxis=dict(\n",
    "            title=xaxis_title,\n",
    "            showgrid=True,\n",
    "            gridcolor=\"lightgrey\",\n",
    "            tickmode=\"linear\",\n",
    "            tick0=0,\n",
    "            dtick=max(1, len(iterations) // 10),\n",
    "        ),\n",
    "        yaxis=dict(\n",
    "            title=yaxis_title,\n",
    "            showgrid=True,\n",
    "            gridcolor=\"lightgrey\",\n",
    "            zeroline=True,\n",
    "            zerolinecolor=\"black\",\n",
    "            zerolinewidth=1,\n",
    "            range=yaxis_range,\n",
    "        ),\n",
    "        legend=dict(\n",
    "            yanchor=\"top\",\n",
    "            y=1,\n",
    "            xanchor=\"right\",\n",
    "            x=1,\n",
    "            bgcolor=\"rgba(255, 255, 255, 0.7)\",\n",
    "            bordercolor=\"lightgrey\",\n",
    "            borderwidth=1,\n",
    "        ),\n",
    "        plot_bgcolor=\"white\",\n",
    "    )\n",
    "\n",
    "    if save_figure:\n",
    "        figure.write_image(\"plot.svg\", format=\"svg\")\n",
    "    return figure"
   ]
  },
  {
   "cell_type": "markdown",
   "id": "e8afb152",
   "metadata": {},
   "source": [
    "#### 1.3. Plot the training data"
   ]
  },
  {
   "cell_type": "code",
   "execution_count": 30,
   "id": "347f75cd",
   "metadata": {},
   "outputs": [
    {
     "data": {
      "application/vnd.plotly.v1+json": {
       "config": {
        "plotlyServerURL": "https://plot.ly"
       },
       "data": [
        {
         "hovertemplate": "<b>Iteration</b>: %{x}<br><b>Loss</b>: %{y:.4f}<br>",
         "line": {
          "color": "#1f77b4",
          "dash": "solid",
          "width": 2
         },
         "marker": {
          "color": "#1f77b4",
          "line": {
           "color": "black",
           "width": 1
          },
          "size": 8,
          "symbol": 0
         },
         "mode": "lines+markers",
         "name": "Absolute positional encoding",
         "type": "scatter",
         "x": [
          1,
          2,
          3,
          4,
          5,
          6,
          7,
          8,
          9,
          10,
          11,
          12,
          13
         ],
         "xaxis": "x",
         "y": [
          7.815759880542755,
          7.192641873836517,
          6.990941246986389,
          5.839777036428451,
          5.682777120113373,
          5.566383225440979,
          5.285406540393829,
          5.203298878669739,
          5.155765187501907,
          5.12278404378891,
          5.088383534431458,
          5.064769353151322,
          5.0610949158668515
         ],
         "yaxis": "y"
        },
        {
         "hovertemplate": "<b>Iteration</b>: %{x}<br><b>Loss</b>: %{y:.4f}<br>",
         "line": {
          "color": "#ff7f0e",
          "dash": "solid",
          "width": 2
         },
         "marker": {
          "color": "#ff7f0e",
          "line": {
           "color": "black",
           "width": 1
          },
          "size": 8,
          "symbol": 1
         },
         "mode": "lines+markers",
         "name": "Sinusoidal positional encoding",
         "type": "scatter",
         "x": [
          1,
          2,
          3,
          4,
          5,
          6,
          7,
          8,
          9,
          10,
          11,
          12,
          13
         ],
         "xaxis": "x",
         "y": [
          8.5106130900383,
          7.447222557067871,
          7.560650234699249,
          6.081403373241424,
          5.918804577827453,
          5.824915031909943,
          5.556678214550018,
          5.472830088615417,
          5.4391496875286105,
          5.40995862197876,
          5.38285494017601,
          5.367875755786896,
          5.365681176662445
         ],
         "yaxis": "y"
        },
        {
         "hovertemplate": "<b>Iteration</b>: %{x}<br><b>Loss</b>: %{y:.4f}<br>",
         "line": {
          "color": "#2ca02c",
          "dash": "solid",
          "width": 2
         },
         "marker": {
          "color": "#2ca02c",
          "line": {
           "color": "black",
           "width": 1
          },
          "size": 8,
          "symbol": 2
         },
         "mode": "lines+markers",
         "name": "Relative positional encoding",
         "type": "scatter",
         "x": [
          1,
          2,
          3,
          4,
          5,
          6,
          7,
          8,
          9,
          10,
          11,
          12,
          13
         ],
         "xaxis": "x",
         "y": [
          7.739076032161712,
          7.13209710931778,
          6.951537672519684,
          5.709294790267944,
          5.511839114427566,
          5.384693318605423,
          5.0560971913337704,
          4.95912043261528,
          4.911511103153229,
          4.873094983100891,
          4.8449605631828305,
          4.830097246408463,
          4.82104260468483
         ],
         "yaxis": "y"
        },
        {
         "hovertemplate": "<b>Iteration</b>: %{x}<br><b>Loss</b>: %{y:.4f}<br>",
         "line": {
          "color": "#d62728",
          "dash": "solid",
          "width": 2
         },
         "marker": {
          "color": "#d62728",
          "line": {
           "color": "black",
           "width": 1
          },
          "size": 8,
          "symbol": 3
         },
         "mode": "lines+markers",
         "name": "No positional encoding",
         "type": "scatter",
         "x": [
          1,
          2,
          3,
          4,
          5,
          6,
          7,
          8,
          9,
          10,
          11,
          12,
          13
         ],
         "xaxis": "x",
         "y": [
          7.697263426780701,
          7.137805366516114,
          7.000873998641968,
          5.8881733086109165,
          5.753586390972138,
          5.6741881198883055,
          5.432094727039337,
          5.376590541839599,
          5.365688190937043,
          5.354274272203446,
          5.329819240808487,
          5.3212363815307615,
          5.317272351980209
         ],
         "yaxis": "y"
        },
        {
         "hovertemplate": "<b>Iteration</b>: %{x}<br><b>Loss</b>: %{y:.4f}<br>",
         "line": {
          "color": "#9467bd",
          "dash": "solid",
          "width": 2
         },
         "marker": {
          "color": "#9467bd",
          "line": {
           "color": "black",
           "width": 1
          },
          "size": 8,
          "symbol": 4
         },
         "mode": "lines+markers",
         "name": "Rotary positional encoding (RoPE)",
         "type": "scatter",
         "x": [
          1,
          2,
          3,
          4,
          5,
          6,
          7,
          8,
          9,
          10,
          11,
          12,
          13
         ],
         "xaxis": "x",
         "y": [
          7.651266075849533,
          6.991539409399032,
          6.863820963859558,
          5.643879169464111,
          5.452006796360016,
          5.329210173368454,
          5.05391924738884,
          4.989931551933289,
          4.952401692390442,
          4.925935240983963,
          4.903976202964783,
          4.892770017623901,
          4.884267627954483
         ],
         "yaxis": "y"
        }
       ],
       "layout": {
        "autosize": false,
        "font": {
         "color": "black",
         "family": "Arial",
         "size": 14
        },
        "height": 700,
        "legend": {
         "bgcolor": "rgba(255, 255, 255, 0.7)",
         "bordercolor": "lightgrey",
         "borderwidth": 1,
         "x": 1,
         "xanchor": "right",
         "y": 1,
         "yanchor": "top"
        },
        "margin": {
         "b": 150,
         "l": 80,
         "pad": 10,
         "r": 50,
         "t": 100
        },
        "plot_bgcolor": "white",
        "showlegend": true,
        "template": {
         "data": {
          "bar": [
           {
            "error_x": {
             "color": "#2a3f5f"
            },
            "error_y": {
             "color": "#2a3f5f"
            },
            "marker": {
             "line": {
              "color": "#E5ECF6",
              "width": 0.5
             },
             "pattern": {
              "fillmode": "overlay",
              "size": 10,
              "solidity": 0.2
             }
            },
            "type": "bar"
           }
          ],
          "barpolar": [
           {
            "marker": {
             "line": {
              "color": "#E5ECF6",
              "width": 0.5
             },
             "pattern": {
              "fillmode": "overlay",
              "size": 10,
              "solidity": 0.2
             }
            },
            "type": "barpolar"
           }
          ],
          "carpet": [
           {
            "aaxis": {
             "endlinecolor": "#2a3f5f",
             "gridcolor": "white",
             "linecolor": "white",
             "minorgridcolor": "white",
             "startlinecolor": "#2a3f5f"
            },
            "baxis": {
             "endlinecolor": "#2a3f5f",
             "gridcolor": "white",
             "linecolor": "white",
             "minorgridcolor": "white",
             "startlinecolor": "#2a3f5f"
            },
            "type": "carpet"
           }
          ],
          "choropleth": [
           {
            "colorbar": {
             "outlinewidth": 0,
             "ticks": ""
            },
            "type": "choropleth"
           }
          ],
          "contour": [
           {
            "colorbar": {
             "outlinewidth": 0,
             "ticks": ""
            },
            "colorscale": [
             [
              0,
              "#0d0887"
             ],
             [
              0.1111111111111111,
              "#46039f"
             ],
             [
              0.2222222222222222,
              "#7201a8"
             ],
             [
              0.3333333333333333,
              "#9c179e"
             ],
             [
              0.4444444444444444,
              "#bd3786"
             ],
             [
              0.5555555555555556,
              "#d8576b"
             ],
             [
              0.6666666666666666,
              "#ed7953"
             ],
             [
              0.7777777777777778,
              "#fb9f3a"
             ],
             [
              0.8888888888888888,
              "#fdca26"
             ],
             [
              1,
              "#f0f921"
             ]
            ],
            "type": "contour"
           }
          ],
          "contourcarpet": [
           {
            "colorbar": {
             "outlinewidth": 0,
             "ticks": ""
            },
            "type": "contourcarpet"
           }
          ],
          "heatmap": [
           {
            "colorbar": {
             "outlinewidth": 0,
             "ticks": ""
            },
            "colorscale": [
             [
              0,
              "#0d0887"
             ],
             [
              0.1111111111111111,
              "#46039f"
             ],
             [
              0.2222222222222222,
              "#7201a8"
             ],
             [
              0.3333333333333333,
              "#9c179e"
             ],
             [
              0.4444444444444444,
              "#bd3786"
             ],
             [
              0.5555555555555556,
              "#d8576b"
             ],
             [
              0.6666666666666666,
              "#ed7953"
             ],
             [
              0.7777777777777778,
              "#fb9f3a"
             ],
             [
              0.8888888888888888,
              "#fdca26"
             ],
             [
              1,
              "#f0f921"
             ]
            ],
            "type": "heatmap"
           }
          ],
          "heatmapgl": [
           {
            "colorbar": {
             "outlinewidth": 0,
             "ticks": ""
            },
            "colorscale": [
             [
              0,
              "#0d0887"
             ],
             [
              0.1111111111111111,
              "#46039f"
             ],
             [
              0.2222222222222222,
              "#7201a8"
             ],
             [
              0.3333333333333333,
              "#9c179e"
             ],
             [
              0.4444444444444444,
              "#bd3786"
             ],
             [
              0.5555555555555556,
              "#d8576b"
             ],
             [
              0.6666666666666666,
              "#ed7953"
             ],
             [
              0.7777777777777778,
              "#fb9f3a"
             ],
             [
              0.8888888888888888,
              "#fdca26"
             ],
             [
              1,
              "#f0f921"
             ]
            ],
            "type": "heatmapgl"
           }
          ],
          "histogram": [
           {
            "marker": {
             "pattern": {
              "fillmode": "overlay",
              "size": 10,
              "solidity": 0.2
             }
            },
            "type": "histogram"
           }
          ],
          "histogram2d": [
           {
            "colorbar": {
             "outlinewidth": 0,
             "ticks": ""
            },
            "colorscale": [
             [
              0,
              "#0d0887"
             ],
             [
              0.1111111111111111,
              "#46039f"
             ],
             [
              0.2222222222222222,
              "#7201a8"
             ],
             [
              0.3333333333333333,
              "#9c179e"
             ],
             [
              0.4444444444444444,
              "#bd3786"
             ],
             [
              0.5555555555555556,
              "#d8576b"
             ],
             [
              0.6666666666666666,
              "#ed7953"
             ],
             [
              0.7777777777777778,
              "#fb9f3a"
             ],
             [
              0.8888888888888888,
              "#fdca26"
             ],
             [
              1,
              "#f0f921"
             ]
            ],
            "type": "histogram2d"
           }
          ],
          "histogram2dcontour": [
           {
            "colorbar": {
             "outlinewidth": 0,
             "ticks": ""
            },
            "colorscale": [
             [
              0,
              "#0d0887"
             ],
             [
              0.1111111111111111,
              "#46039f"
             ],
             [
              0.2222222222222222,
              "#7201a8"
             ],
             [
              0.3333333333333333,
              "#9c179e"
             ],
             [
              0.4444444444444444,
              "#bd3786"
             ],
             [
              0.5555555555555556,
              "#d8576b"
             ],
             [
              0.6666666666666666,
              "#ed7953"
             ],
             [
              0.7777777777777778,
              "#fb9f3a"
             ],
             [
              0.8888888888888888,
              "#fdca26"
             ],
             [
              1,
              "#f0f921"
             ]
            ],
            "type": "histogram2dcontour"
           }
          ],
          "mesh3d": [
           {
            "colorbar": {
             "outlinewidth": 0,
             "ticks": ""
            },
            "type": "mesh3d"
           }
          ],
          "parcoords": [
           {
            "line": {
             "colorbar": {
              "outlinewidth": 0,
              "ticks": ""
             }
            },
            "type": "parcoords"
           }
          ],
          "pie": [
           {
            "automargin": true,
            "type": "pie"
           }
          ],
          "scatter": [
           {
            "fillpattern": {
             "fillmode": "overlay",
             "size": 10,
             "solidity": 0.2
            },
            "type": "scatter"
           }
          ],
          "scatter3d": [
           {
            "line": {
             "colorbar": {
              "outlinewidth": 0,
              "ticks": ""
             }
            },
            "marker": {
             "colorbar": {
              "outlinewidth": 0,
              "ticks": ""
             }
            },
            "type": "scatter3d"
           }
          ],
          "scattercarpet": [
           {
            "marker": {
             "colorbar": {
              "outlinewidth": 0,
              "ticks": ""
             }
            },
            "type": "scattercarpet"
           }
          ],
          "scattergeo": [
           {
            "marker": {
             "colorbar": {
              "outlinewidth": 0,
              "ticks": ""
             }
            },
            "type": "scattergeo"
           }
          ],
          "scattergl": [
           {
            "marker": {
             "colorbar": {
              "outlinewidth": 0,
              "ticks": ""
             }
            },
            "type": "scattergl"
           }
          ],
          "scattermapbox": [
           {
            "marker": {
             "colorbar": {
              "outlinewidth": 0,
              "ticks": ""
             }
            },
            "type": "scattermapbox"
           }
          ],
          "scatterpolar": [
           {
            "marker": {
             "colorbar": {
              "outlinewidth": 0,
              "ticks": ""
             }
            },
            "type": "scatterpolar"
           }
          ],
          "scatterpolargl": [
           {
            "marker": {
             "colorbar": {
              "outlinewidth": 0,
              "ticks": ""
             }
            },
            "type": "scatterpolargl"
           }
          ],
          "scatterternary": [
           {
            "marker": {
             "colorbar": {
              "outlinewidth": 0,
              "ticks": ""
             }
            },
            "type": "scatterternary"
           }
          ],
          "surface": [
           {
            "colorbar": {
             "outlinewidth": 0,
             "ticks": ""
            },
            "colorscale": [
             [
              0,
              "#0d0887"
             ],
             [
              0.1111111111111111,
              "#46039f"
             ],
             [
              0.2222222222222222,
              "#7201a8"
             ],
             [
              0.3333333333333333,
              "#9c179e"
             ],
             [
              0.4444444444444444,
              "#bd3786"
             ],
             [
              0.5555555555555556,
              "#d8576b"
             ],
             [
              0.6666666666666666,
              "#ed7953"
             ],
             [
              0.7777777777777778,
              "#fb9f3a"
             ],
             [
              0.8888888888888888,
              "#fdca26"
             ],
             [
              1,
              "#f0f921"
             ]
            ],
            "type": "surface"
           }
          ],
          "table": [
           {
            "cells": {
             "fill": {
              "color": "#EBF0F8"
             },
             "line": {
              "color": "white"
             }
            },
            "header": {
             "fill": {
              "color": "#C8D4E3"
             },
             "line": {
              "color": "white"
             }
            },
            "type": "table"
           }
          ]
         },
         "layout": {
          "annotationdefaults": {
           "arrowcolor": "#2a3f5f",
           "arrowhead": 0,
           "arrowwidth": 1
          },
          "autotypenumbers": "strict",
          "coloraxis": {
           "colorbar": {
            "outlinewidth": 0,
            "ticks": ""
           }
          },
          "colorscale": {
           "diverging": [
            [
             0,
             "#8e0152"
            ],
            [
             0.1,
             "#c51b7d"
            ],
            [
             0.2,
             "#de77ae"
            ],
            [
             0.3,
             "#f1b6da"
            ],
            [
             0.4,
             "#fde0ef"
            ],
            [
             0.5,
             "#f7f7f7"
            ],
            [
             0.6,
             "#e6f5d0"
            ],
            [
             0.7,
             "#b8e186"
            ],
            [
             0.8,
             "#7fbc41"
            ],
            [
             0.9,
             "#4d9221"
            ],
            [
             1,
             "#276419"
            ]
           ],
           "sequential": [
            [
             0,
             "#0d0887"
            ],
            [
             0.1111111111111111,
             "#46039f"
            ],
            [
             0.2222222222222222,
             "#7201a8"
            ],
            [
             0.3333333333333333,
             "#9c179e"
            ],
            [
             0.4444444444444444,
             "#bd3786"
            ],
            [
             0.5555555555555556,
             "#d8576b"
            ],
            [
             0.6666666666666666,
             "#ed7953"
            ],
            [
             0.7777777777777778,
             "#fb9f3a"
            ],
            [
             0.8888888888888888,
             "#fdca26"
            ],
            [
             1,
             "#f0f921"
            ]
           ],
           "sequentialminus": [
            [
             0,
             "#0d0887"
            ],
            [
             0.1111111111111111,
             "#46039f"
            ],
            [
             0.2222222222222222,
             "#7201a8"
            ],
            [
             0.3333333333333333,
             "#9c179e"
            ],
            [
             0.4444444444444444,
             "#bd3786"
            ],
            [
             0.5555555555555556,
             "#d8576b"
            ],
            [
             0.6666666666666666,
             "#ed7953"
            ],
            [
             0.7777777777777778,
             "#fb9f3a"
            ],
            [
             0.8888888888888888,
             "#fdca26"
            ],
            [
             1,
             "#f0f921"
            ]
           ]
          },
          "colorway": [
           "#636efa",
           "#EF553B",
           "#00cc96",
           "#ab63fa",
           "#FFA15A",
           "#19d3f3",
           "#FF6692",
           "#B6E880",
           "#FF97FF",
           "#FECB52"
          ],
          "font": {
           "color": "#2a3f5f"
          },
          "geo": {
           "bgcolor": "white",
           "lakecolor": "white",
           "landcolor": "#E5ECF6",
           "showlakes": true,
           "showland": true,
           "subunitcolor": "white"
          },
          "hoverlabel": {
           "align": "left"
          },
          "hovermode": "closest",
          "mapbox": {
           "style": "light"
          },
          "paper_bgcolor": "white",
          "plot_bgcolor": "#E5ECF6",
          "polar": {
           "angularaxis": {
            "gridcolor": "white",
            "linecolor": "white",
            "ticks": ""
           },
           "bgcolor": "#E5ECF6",
           "radialaxis": {
            "gridcolor": "white",
            "linecolor": "white",
            "ticks": ""
           }
          },
          "scene": {
           "xaxis": {
            "backgroundcolor": "#E5ECF6",
            "gridcolor": "white",
            "gridwidth": 2,
            "linecolor": "white",
            "showbackground": true,
            "ticks": "",
            "zerolinecolor": "white"
           },
           "yaxis": {
            "backgroundcolor": "#E5ECF6",
            "gridcolor": "white",
            "gridwidth": 2,
            "linecolor": "white",
            "showbackground": true,
            "ticks": "",
            "zerolinecolor": "white"
           },
           "zaxis": {
            "backgroundcolor": "#E5ECF6",
            "gridcolor": "white",
            "gridwidth": 2,
            "linecolor": "white",
            "showbackground": true,
            "ticks": "",
            "zerolinecolor": "white"
           }
          },
          "shapedefaults": {
           "line": {
            "color": "#2a3f5f"
           }
          },
          "ternary": {
           "aaxis": {
            "gridcolor": "white",
            "linecolor": "white",
            "ticks": ""
           },
           "baxis": {
            "gridcolor": "white",
            "linecolor": "white",
            "ticks": ""
           },
           "bgcolor": "#E5ECF6",
           "caxis": {
            "gridcolor": "white",
            "linecolor": "white",
            "ticks": ""
           }
          },
          "title": {
           "x": 0.05
          },
          "xaxis": {
           "automargin": true,
           "gridcolor": "white",
           "linecolor": "white",
           "ticks": "",
           "title": {
            "standoff": 15
           },
           "zerolinecolor": "white",
           "zerolinewidth": 2
          },
          "yaxis": {
           "automargin": true,
           "gridcolor": "white",
           "linecolor": "white",
           "ticks": "",
           "title": {
            "standoff": 15
           },
           "zerolinecolor": "white",
           "zerolinewidth": 2
          }
         }
        },
        "title": {
         "font": {
          "size": 18
         },
         "text": "Training losses for different positional encodings",
         "x": 0.5,
         "xanchor": "center",
         "y": 0.95,
         "yanchor": "top"
        },
        "width": 1200,
        "xaxis": {
         "anchor": "y",
         "domain": [
          0,
          0.94
         ],
         "dtick": 1,
         "gridcolor": "lightgrey",
         "showgrid": true,
         "tick0": 0,
         "tickmode": "linear",
         "title": {
          "text": "Iterations"
         }
        },
        "yaxis": {
         "anchor": "x",
         "domain": [
          0,
          1
         ],
         "gridcolor": "lightgrey",
         "range": [
          4.5,
          7
         ],
         "showgrid": true,
         "title": {
          "text": "Training loss"
         },
         "zeroline": true,
         "zerolinecolor": "black",
         "zerolinewidth": 1
        },
        "yaxis2": {
         "anchor": "x",
         "overlaying": "y",
         "side": "right"
        }
       }
      }
     },
     "metadata": {},
     "output_type": "display_data"
    }
   ],
   "source": [
    "line_configs = [\n",
    "    {\n",
    "        \"name\": \"Absolute positional encoding\",\n",
    "        \"data\": positional_encodings[\"absolute\"][\"train\"],\n",
    "        \"color\": \"#1f77b4\",\n",
    "        \"dash\": \"solid\",\n",
    "        \"width\": 2,\n",
    "        \"marker_symbol\": 0,\n",
    "    },\n",
    "    {\n",
    "        \"name\": \"Sinusoidal positional encoding\",\n",
    "        \"data\": positional_encodings[\"sinusoidal\"][\"train\"],\n",
    "        \"color\": \"#ff7f0e\",\n",
    "        \"dash\": \"solid\",\n",
    "        \"width\": 2,\n",
    "        \"marker_symbol\": 1,\n",
    "    },\n",
    "    {\n",
    "        \"name\": \"Relative positional encoding\",\n",
    "        \"data\": positional_encodings[\"relative\"][\"train\"],\n",
    "        \"color\": \"#2ca02c\",\n",
    "        \"dash\": \"solid\",\n",
    "        \"width\": 2,\n",
    "        \"marker_symbol\": 2,\n",
    "    },\n",
    "    {\n",
    "        \"name\": \"No positional encoding\",\n",
    "        \"data\": positional_encodings[\"none\"][\"train\"],\n",
    "        \"color\": \"#d62728\",\n",
    "        \"dash\": \"solid\",\n",
    "        \"width\": 2,\n",
    "        \"marker_symbol\": 3,\n",
    "    },\n",
    "    {\n",
    "        \"name\": \"Rotary positional encoding (RoPE)\",\n",
    "        \"data\": positional_encodings[\"rope\"][\"train\"],\n",
    "        \"color\": \"#9467bd\",\n",
    "        \"dash\": \"solid\",\n",
    "        \"width\": 2,\n",
    "        \"marker_symbol\": 4,\n",
    "    },\n",
    "]\n",
    "iterations = np.arange(1, len(positional_encodings[\"none\"][\"train\"]) + 1)\n",
    "\n",
    "figure = plot_positional_encodings_losses(\n",
    "    line_configs=line_configs,\n",
    "    iterations=iterations,\n",
    "    title=\"Training losses for different positional encodings\",\n",
    "    xaxis_title=\"Iterations\",\n",
    "    yaxis_title=\"Training loss\",\n",
    "    width=1200,\n",
    "    height=700,\n",
    "    yaxis_range=[4.5, 7],\n",
    "    save_figure=False,\n",
    ")\n",
    "figure.show()"
   ]
  },
  {
   "cell_type": "markdown",
   "id": "c7898e46",
   "metadata": {},
   "source": [
    "#### 1.4. Plot the validation data"
   ]
  },
  {
   "cell_type": "code",
   "execution_count": 32,
   "id": "a675e654",
   "metadata": {},
   "outputs": [
    {
     "data": {
      "application/vnd.plotly.v1+json": {
       "config": {
        "plotlyServerURL": "https://plot.ly"
       },
       "data": [
        {
         "hovertemplate": "<b>Iteration</b>: %{x}<br><b>Loss</b>: %{y:.4f}<br>",
         "line": {
          "color": "#1f77b4",
          "dash": "solid",
          "width": 2
         },
         "marker": {
          "color": "#1f77b4",
          "line": {
           "color": "black",
           "width": 1
          },
          "size": 8,
          "symbol": 0
         },
         "mode": "lines+markers",
         "name": "Absolute positional encoding",
         "type": "scatter",
         "x": [
          1,
          2,
          3,
          4,
          5,
          6,
          7,
          8,
          9,
          10,
          11,
          12,
          13
         ],
         "xaxis": "x",
         "y": [
          8.24471164560318,
          7.731250361919403,
          7.504052380561829,
          6.065326649665833,
          5.888581208467484,
          5.735083841323853,
          5.096097957134247,
          4.9228661277294155,
          4.831501163721085,
          4.775763339757919,
          4.725325879096985,
          4.693506921291351,
          4.674627151489258
         ],
         "yaxis": "y"
        },
        {
         "hovertemplate": "<b>Iteration</b>: %{x}<br><b>Loss</b>: %{y:.4f}<br>",
         "line": {
          "color": "#ff7f0e",
          "dash": "solid",
          "width": 2
         },
         "marker": {
          "color": "#ff7f0e",
          "line": {
           "color": "black",
           "width": 1
          },
          "size": 8,
          "symbol": 1
         },
         "mode": "lines+markers",
         "name": "Sinusoidal positional encoding",
         "type": "scatter",
         "x": [
          1,
          2,
          3,
          4,
          5,
          6,
          7,
          8,
          9,
          10,
          11,
          12,
          13
         ],
         "xaxis": "x",
         "y": [
          8.786030603885651,
          8.025255812644959,
          8.0848116607666,
          6.2651440253257755,
          6.061361460208893,
          5.948074533939361,
          5.270401162147522,
          5.081642664909363,
          4.996364748954773,
          4.943614390611649,
          4.9048675956726075,
          4.8809251019954685,
          4.865896975278854
         ],
         "yaxis": "y"
        },
        {
         "hovertemplate": "<b>Iteration</b>: %{x}<br><b>Loss</b>: %{y:.4f}<br>",
         "line": {
          "color": "#2ca02c",
          "dash": "solid",
          "width": 2
         },
         "marker": {
          "color": "#2ca02c",
          "line": {
           "color": "black",
           "width": 1
          },
          "size": 8,
          "symbol": 2
         },
         "mode": "lines+markers",
         "name": "Relative positional encoding",
         "type": "scatter",
         "x": [
          1,
          2,
          3,
          4,
          5,
          6,
          7,
          8,
          9,
          10,
          11,
          12,
          13
         ],
         "xaxis": "x",
         "y": [
          8.20103143787384,
          7.710633950710297,
          7.540037029266357,
          5.961287613868714,
          5.743770097255707,
          5.582126549959183,
          4.866284922361374,
          4.660023102045059,
          4.567329346895218,
          4.508943784236908,
          4.464996229410172,
          4.4389163694381715,
          4.420925788402557
         ],
         "yaxis": "y"
        },
        {
         "hovertemplate": "<b>Iteration</b>: %{x}<br><b>Loss</b>: %{y:.4f}<br>",
         "line": {
          "color": "#d62728",
          "dash": "solid",
          "width": 2
         },
         "marker": {
          "color": "#d62728",
          "line": {
           "color": "black",
           "width": 1
          },
          "size": 8,
          "symbol": 3
         },
         "mode": "lines+markers",
         "name": "No positional encoding",
         "type": "scatter",
         "x": [
          1,
          2,
          3,
          4,
          5,
          6,
          7,
          8,
          9,
          10,
          11,
          12,
          13
         ],
         "xaxis": "x",
         "y": [
          8.192918510437012,
          7.733072933673859,
          7.583997981071472,
          6.045419194698334,
          5.883162996768951,
          5.781899590015412,
          5.150169632673263,
          5.0019558238983155,
          4.944946964263916,
          4.907899426937103,
          4.874565555810928,
          4.857694315195084,
          4.843426901102066
         ],
         "yaxis": "y"
        },
        {
         "hovertemplate": "<b>Iteration</b>: %{x}<br><b>Loss</b>: %{y:.4f}<br>",
         "line": {
          "color": "#9467bd",
          "dash": "solid",
          "width": 2
         },
         "marker": {
          "color": "#9467bd",
          "line": {
           "color": "black",
           "width": 1
          },
          "size": 8,
          "symbol": 4
         },
         "mode": "lines+markers",
         "name": "Rotary positional encoding (RoPE)",
         "type": "scatter",
         "x": [
          1,
          2,
          3,
          4,
          5,
          6,
          7,
          8,
          9,
          10,
          11,
          12,
          13
         ],
         "xaxis": "x",
         "y": [
          8.154014520645141,
          7.648737946510315,
          7.45491281080246,
          5.861397808074951,
          5.644439443349838,
          5.477182947158814,
          4.807116810083389,
          4.613188225030899,
          4.523603199005127,
          4.470895441055298,
          4.430854126214981,
          4.408912209510803,
          4.392745221614837
         ],
         "yaxis": "y"
        }
       ],
       "layout": {
        "autosize": false,
        "font": {
         "color": "black",
         "family": "Arial",
         "size": 14
        },
        "height": 700,
        "legend": {
         "bgcolor": "rgba(255, 255, 255, 0.7)",
         "bordercolor": "lightgrey",
         "borderwidth": 1,
         "x": 1,
         "xanchor": "right",
         "y": 1,
         "yanchor": "top"
        },
        "margin": {
         "b": 150,
         "l": 80,
         "pad": 10,
         "r": 50,
         "t": 100
        },
        "plot_bgcolor": "white",
        "showlegend": true,
        "template": {
         "data": {
          "bar": [
           {
            "error_x": {
             "color": "#2a3f5f"
            },
            "error_y": {
             "color": "#2a3f5f"
            },
            "marker": {
             "line": {
              "color": "#E5ECF6",
              "width": 0.5
             },
             "pattern": {
              "fillmode": "overlay",
              "size": 10,
              "solidity": 0.2
             }
            },
            "type": "bar"
           }
          ],
          "barpolar": [
           {
            "marker": {
             "line": {
              "color": "#E5ECF6",
              "width": 0.5
             },
             "pattern": {
              "fillmode": "overlay",
              "size": 10,
              "solidity": 0.2
             }
            },
            "type": "barpolar"
           }
          ],
          "carpet": [
           {
            "aaxis": {
             "endlinecolor": "#2a3f5f",
             "gridcolor": "white",
             "linecolor": "white",
             "minorgridcolor": "white",
             "startlinecolor": "#2a3f5f"
            },
            "baxis": {
             "endlinecolor": "#2a3f5f",
             "gridcolor": "white",
             "linecolor": "white",
             "minorgridcolor": "white",
             "startlinecolor": "#2a3f5f"
            },
            "type": "carpet"
           }
          ],
          "choropleth": [
           {
            "colorbar": {
             "outlinewidth": 0,
             "ticks": ""
            },
            "type": "choropleth"
           }
          ],
          "contour": [
           {
            "colorbar": {
             "outlinewidth": 0,
             "ticks": ""
            },
            "colorscale": [
             [
              0,
              "#0d0887"
             ],
             [
              0.1111111111111111,
              "#46039f"
             ],
             [
              0.2222222222222222,
              "#7201a8"
             ],
             [
              0.3333333333333333,
              "#9c179e"
             ],
             [
              0.4444444444444444,
              "#bd3786"
             ],
             [
              0.5555555555555556,
              "#d8576b"
             ],
             [
              0.6666666666666666,
              "#ed7953"
             ],
             [
              0.7777777777777778,
              "#fb9f3a"
             ],
             [
              0.8888888888888888,
              "#fdca26"
             ],
             [
              1,
              "#f0f921"
             ]
            ],
            "type": "contour"
           }
          ],
          "contourcarpet": [
           {
            "colorbar": {
             "outlinewidth": 0,
             "ticks": ""
            },
            "type": "contourcarpet"
           }
          ],
          "heatmap": [
           {
            "colorbar": {
             "outlinewidth": 0,
             "ticks": ""
            },
            "colorscale": [
             [
              0,
              "#0d0887"
             ],
             [
              0.1111111111111111,
              "#46039f"
             ],
             [
              0.2222222222222222,
              "#7201a8"
             ],
             [
              0.3333333333333333,
              "#9c179e"
             ],
             [
              0.4444444444444444,
              "#bd3786"
             ],
             [
              0.5555555555555556,
              "#d8576b"
             ],
             [
              0.6666666666666666,
              "#ed7953"
             ],
             [
              0.7777777777777778,
              "#fb9f3a"
             ],
             [
              0.8888888888888888,
              "#fdca26"
             ],
             [
              1,
              "#f0f921"
             ]
            ],
            "type": "heatmap"
           }
          ],
          "heatmapgl": [
           {
            "colorbar": {
             "outlinewidth": 0,
             "ticks": ""
            },
            "colorscale": [
             [
              0,
              "#0d0887"
             ],
             [
              0.1111111111111111,
              "#46039f"
             ],
             [
              0.2222222222222222,
              "#7201a8"
             ],
             [
              0.3333333333333333,
              "#9c179e"
             ],
             [
              0.4444444444444444,
              "#bd3786"
             ],
             [
              0.5555555555555556,
              "#d8576b"
             ],
             [
              0.6666666666666666,
              "#ed7953"
             ],
             [
              0.7777777777777778,
              "#fb9f3a"
             ],
             [
              0.8888888888888888,
              "#fdca26"
             ],
             [
              1,
              "#f0f921"
             ]
            ],
            "type": "heatmapgl"
           }
          ],
          "histogram": [
           {
            "marker": {
             "pattern": {
              "fillmode": "overlay",
              "size": 10,
              "solidity": 0.2
             }
            },
            "type": "histogram"
           }
          ],
          "histogram2d": [
           {
            "colorbar": {
             "outlinewidth": 0,
             "ticks": ""
            },
            "colorscale": [
             [
              0,
              "#0d0887"
             ],
             [
              0.1111111111111111,
              "#46039f"
             ],
             [
              0.2222222222222222,
              "#7201a8"
             ],
             [
              0.3333333333333333,
              "#9c179e"
             ],
             [
              0.4444444444444444,
              "#bd3786"
             ],
             [
              0.5555555555555556,
              "#d8576b"
             ],
             [
              0.6666666666666666,
              "#ed7953"
             ],
             [
              0.7777777777777778,
              "#fb9f3a"
             ],
             [
              0.8888888888888888,
              "#fdca26"
             ],
             [
              1,
              "#f0f921"
             ]
            ],
            "type": "histogram2d"
           }
          ],
          "histogram2dcontour": [
           {
            "colorbar": {
             "outlinewidth": 0,
             "ticks": ""
            },
            "colorscale": [
             [
              0,
              "#0d0887"
             ],
             [
              0.1111111111111111,
              "#46039f"
             ],
             [
              0.2222222222222222,
              "#7201a8"
             ],
             [
              0.3333333333333333,
              "#9c179e"
             ],
             [
              0.4444444444444444,
              "#bd3786"
             ],
             [
              0.5555555555555556,
              "#d8576b"
             ],
             [
              0.6666666666666666,
              "#ed7953"
             ],
             [
              0.7777777777777778,
              "#fb9f3a"
             ],
             [
              0.8888888888888888,
              "#fdca26"
             ],
             [
              1,
              "#f0f921"
             ]
            ],
            "type": "histogram2dcontour"
           }
          ],
          "mesh3d": [
           {
            "colorbar": {
             "outlinewidth": 0,
             "ticks": ""
            },
            "type": "mesh3d"
           }
          ],
          "parcoords": [
           {
            "line": {
             "colorbar": {
              "outlinewidth": 0,
              "ticks": ""
             }
            },
            "type": "parcoords"
           }
          ],
          "pie": [
           {
            "automargin": true,
            "type": "pie"
           }
          ],
          "scatter": [
           {
            "fillpattern": {
             "fillmode": "overlay",
             "size": 10,
             "solidity": 0.2
            },
            "type": "scatter"
           }
          ],
          "scatter3d": [
           {
            "line": {
             "colorbar": {
              "outlinewidth": 0,
              "ticks": ""
             }
            },
            "marker": {
             "colorbar": {
              "outlinewidth": 0,
              "ticks": ""
             }
            },
            "type": "scatter3d"
           }
          ],
          "scattercarpet": [
           {
            "marker": {
             "colorbar": {
              "outlinewidth": 0,
              "ticks": ""
             }
            },
            "type": "scattercarpet"
           }
          ],
          "scattergeo": [
           {
            "marker": {
             "colorbar": {
              "outlinewidth": 0,
              "ticks": ""
             }
            },
            "type": "scattergeo"
           }
          ],
          "scattergl": [
           {
            "marker": {
             "colorbar": {
              "outlinewidth": 0,
              "ticks": ""
             }
            },
            "type": "scattergl"
           }
          ],
          "scattermapbox": [
           {
            "marker": {
             "colorbar": {
              "outlinewidth": 0,
              "ticks": ""
             }
            },
            "type": "scattermapbox"
           }
          ],
          "scatterpolar": [
           {
            "marker": {
             "colorbar": {
              "outlinewidth": 0,
              "ticks": ""
             }
            },
            "type": "scatterpolar"
           }
          ],
          "scatterpolargl": [
           {
            "marker": {
             "colorbar": {
              "outlinewidth": 0,
              "ticks": ""
             }
            },
            "type": "scatterpolargl"
           }
          ],
          "scatterternary": [
           {
            "marker": {
             "colorbar": {
              "outlinewidth": 0,
              "ticks": ""
             }
            },
            "type": "scatterternary"
           }
          ],
          "surface": [
           {
            "colorbar": {
             "outlinewidth": 0,
             "ticks": ""
            },
            "colorscale": [
             [
              0,
              "#0d0887"
             ],
             [
              0.1111111111111111,
              "#46039f"
             ],
             [
              0.2222222222222222,
              "#7201a8"
             ],
             [
              0.3333333333333333,
              "#9c179e"
             ],
             [
              0.4444444444444444,
              "#bd3786"
             ],
             [
              0.5555555555555556,
              "#d8576b"
             ],
             [
              0.6666666666666666,
              "#ed7953"
             ],
             [
              0.7777777777777778,
              "#fb9f3a"
             ],
             [
              0.8888888888888888,
              "#fdca26"
             ],
             [
              1,
              "#f0f921"
             ]
            ],
            "type": "surface"
           }
          ],
          "table": [
           {
            "cells": {
             "fill": {
              "color": "#EBF0F8"
             },
             "line": {
              "color": "white"
             }
            },
            "header": {
             "fill": {
              "color": "#C8D4E3"
             },
             "line": {
              "color": "white"
             }
            },
            "type": "table"
           }
          ]
         },
         "layout": {
          "annotationdefaults": {
           "arrowcolor": "#2a3f5f",
           "arrowhead": 0,
           "arrowwidth": 1
          },
          "autotypenumbers": "strict",
          "coloraxis": {
           "colorbar": {
            "outlinewidth": 0,
            "ticks": ""
           }
          },
          "colorscale": {
           "diverging": [
            [
             0,
             "#8e0152"
            ],
            [
             0.1,
             "#c51b7d"
            ],
            [
             0.2,
             "#de77ae"
            ],
            [
             0.3,
             "#f1b6da"
            ],
            [
             0.4,
             "#fde0ef"
            ],
            [
             0.5,
             "#f7f7f7"
            ],
            [
             0.6,
             "#e6f5d0"
            ],
            [
             0.7,
             "#b8e186"
            ],
            [
             0.8,
             "#7fbc41"
            ],
            [
             0.9,
             "#4d9221"
            ],
            [
             1,
             "#276419"
            ]
           ],
           "sequential": [
            [
             0,
             "#0d0887"
            ],
            [
             0.1111111111111111,
             "#46039f"
            ],
            [
             0.2222222222222222,
             "#7201a8"
            ],
            [
             0.3333333333333333,
             "#9c179e"
            ],
            [
             0.4444444444444444,
             "#bd3786"
            ],
            [
             0.5555555555555556,
             "#d8576b"
            ],
            [
             0.6666666666666666,
             "#ed7953"
            ],
            [
             0.7777777777777778,
             "#fb9f3a"
            ],
            [
             0.8888888888888888,
             "#fdca26"
            ],
            [
             1,
             "#f0f921"
            ]
           ],
           "sequentialminus": [
            [
             0,
             "#0d0887"
            ],
            [
             0.1111111111111111,
             "#46039f"
            ],
            [
             0.2222222222222222,
             "#7201a8"
            ],
            [
             0.3333333333333333,
             "#9c179e"
            ],
            [
             0.4444444444444444,
             "#bd3786"
            ],
            [
             0.5555555555555556,
             "#d8576b"
            ],
            [
             0.6666666666666666,
             "#ed7953"
            ],
            [
             0.7777777777777778,
             "#fb9f3a"
            ],
            [
             0.8888888888888888,
             "#fdca26"
            ],
            [
             1,
             "#f0f921"
            ]
           ]
          },
          "colorway": [
           "#636efa",
           "#EF553B",
           "#00cc96",
           "#ab63fa",
           "#FFA15A",
           "#19d3f3",
           "#FF6692",
           "#B6E880",
           "#FF97FF",
           "#FECB52"
          ],
          "font": {
           "color": "#2a3f5f"
          },
          "geo": {
           "bgcolor": "white",
           "lakecolor": "white",
           "landcolor": "#E5ECF6",
           "showlakes": true,
           "showland": true,
           "subunitcolor": "white"
          },
          "hoverlabel": {
           "align": "left"
          },
          "hovermode": "closest",
          "mapbox": {
           "style": "light"
          },
          "paper_bgcolor": "white",
          "plot_bgcolor": "#E5ECF6",
          "polar": {
           "angularaxis": {
            "gridcolor": "white",
            "linecolor": "white",
            "ticks": ""
           },
           "bgcolor": "#E5ECF6",
           "radialaxis": {
            "gridcolor": "white",
            "linecolor": "white",
            "ticks": ""
           }
          },
          "scene": {
           "xaxis": {
            "backgroundcolor": "#E5ECF6",
            "gridcolor": "white",
            "gridwidth": 2,
            "linecolor": "white",
            "showbackground": true,
            "ticks": "",
            "zerolinecolor": "white"
           },
           "yaxis": {
            "backgroundcolor": "#E5ECF6",
            "gridcolor": "white",
            "gridwidth": 2,
            "linecolor": "white",
            "showbackground": true,
            "ticks": "",
            "zerolinecolor": "white"
           },
           "zaxis": {
            "backgroundcolor": "#E5ECF6",
            "gridcolor": "white",
            "gridwidth": 2,
            "linecolor": "white",
            "showbackground": true,
            "ticks": "",
            "zerolinecolor": "white"
           }
          },
          "shapedefaults": {
           "line": {
            "color": "#2a3f5f"
           }
          },
          "ternary": {
           "aaxis": {
            "gridcolor": "white",
            "linecolor": "white",
            "ticks": ""
           },
           "baxis": {
            "gridcolor": "white",
            "linecolor": "white",
            "ticks": ""
           },
           "bgcolor": "#E5ECF6",
           "caxis": {
            "gridcolor": "white",
            "linecolor": "white",
            "ticks": ""
           }
          },
          "title": {
           "x": 0.05
          },
          "xaxis": {
           "automargin": true,
           "gridcolor": "white",
           "linecolor": "white",
           "ticks": "",
           "title": {
            "standoff": 15
           },
           "zerolinecolor": "white",
           "zerolinewidth": 2
          },
          "yaxis": {
           "automargin": true,
           "gridcolor": "white",
           "linecolor": "white",
           "ticks": "",
           "title": {
            "standoff": 15
           },
           "zerolinecolor": "white",
           "zerolinewidth": 2
          }
         }
        },
        "title": {
         "font": {
          "size": 18
         },
         "text": "Validation losses for different positional encodings",
         "x": 0.5,
         "xanchor": "center",
         "y": 0.95,
         "yanchor": "top"
        },
        "width": 1200,
        "xaxis": {
         "anchor": "y",
         "domain": [
          0,
          0.94
         ],
         "dtick": 1,
         "gridcolor": "lightgrey",
         "showgrid": true,
         "tick0": 0,
         "tickmode": "linear",
         "title": {
          "text": "Iterations"
         }
        },
        "yaxis": {
         "anchor": "x",
         "domain": [
          0,
          1
         ],
         "gridcolor": "lightgrey",
         "range": [
          4,
          6
         ],
         "showgrid": true,
         "title": {
          "text": "Validation loss"
         },
         "zeroline": true,
         "zerolinecolor": "black",
         "zerolinewidth": 1
        },
        "yaxis2": {
         "anchor": "x",
         "overlaying": "y",
         "side": "right"
        }
       }
      }
     },
     "metadata": {},
     "output_type": "display_data"
    }
   ],
   "source": [
    "line_configs = [\n",
    "    {\n",
    "        \"name\": \"Absolute positional encoding\",\n",
    "        \"data\": positional_encodings[\"absolute\"][\"val\"],\n",
    "        \"color\": \"#1f77b4\",\n",
    "        \"dash\": \"solid\",\n",
    "        \"width\": 2,\n",
    "        \"marker_symbol\": 0,\n",
    "    },\n",
    "    {\n",
    "        \"name\": \"Sinusoidal positional encoding\",\n",
    "        \"data\": positional_encodings[\"sinusoidal\"][\"val\"],\n",
    "        \"color\": \"#ff7f0e\",\n",
    "        \"dash\": \"solid\",\n",
    "        \"width\": 2,\n",
    "        \"marker_symbol\": 1,\n",
    "    },\n",
    "    {\n",
    "        \"name\": \"Relative positional encoding\",\n",
    "        \"data\": positional_encodings[\"relative\"][\"val\"],\n",
    "        \"color\": \"#2ca02c\",\n",
    "        \"dash\": \"solid\",\n",
    "        \"width\": 2,\n",
    "        \"marker_symbol\": 2,\n",
    "    },\n",
    "    {\n",
    "        \"name\": \"No positional encoding\",\n",
    "        \"data\": positional_encodings[\"none\"][\"val\"],\n",
    "        \"color\": \"#d62728\",\n",
    "        \"dash\": \"solid\",\n",
    "        \"width\": 2,\n",
    "        \"marker_symbol\": 3,\n",
    "    },\n",
    "    {\n",
    "        \"name\": \"Rotary positional encoding (RoPE)\",\n",
    "        \"data\": positional_encodings[\"rope\"][\"val\"],\n",
    "        \"color\": \"#9467bd\",\n",
    "        \"dash\": \"solid\",\n",
    "        \"width\": 2,\n",
    "        \"marker_symbol\": 4,\n",
    "    },\n",
    "]\n",
    "iterations = np.arange(1, len(positional_encodings[\"none\"][\"val\"]) + 1)\n",
    "\n",
    "figure = plot_positional_encodings_losses(\n",
    "    line_configs=line_configs,\n",
    "    iterations=iterations,\n",
    "    title=\"Validation losses for different positional encodings\",\n",
    "    xaxis_title=\"Iterations\",\n",
    "    yaxis_title=\"Validation loss\",\n",
    "    width=1200,\n",
    "    height=700,\n",
    "    yaxis_range=[4, 6],\n",
    "    save_figure=False,\n",
    ")\n",
    "figure.show()"
   ]
  },
  {
   "cell_type": "markdown",
   "id": "1e34b2f9",
   "metadata": {},
   "source": [
    "#### 1.5. Conclusion"
   ]
  },
  {
   "cell_type": "markdown",
   "id": "7200cf94",
   "metadata": {},
   "source": [
    "Rotary Positional Encoding (RoPE) and Relative Positional Encoding (RPE) showed strong performance on this benchmark. RoPE slightly outperformed RPE on the validation set, but both significantly outperformed the other approaches.\n",
    "\n",
    "In contrast, Sinusoidal and the absence of Positional Encoding yielded the weakest results, with Sinusoidal Positional Encoding performing the worst overall."
   ]
  },
  {
   "cell_type": "code",
   "execution_count": null,
   "id": "6c2d5480",
   "metadata": {},
   "outputs": [],
   "source": []
  }
 ],
 "metadata": {
  "kernelspec": {
   "display_name": "deep_learning",
   "language": "python",
   "name": "python3"
  },
  "language_info": {
   "codemirror_mode": {
    "name": "ipython",
    "version": 3
   },
   "file_extension": ".py",
   "mimetype": "text/x-python",
   "name": "python",
   "nbconvert_exporter": "python",
   "pygments_lexer": "ipython3",
   "version": "3.11.10"
  }
 },
 "nbformat": 4,
 "nbformat_minor": 5
}
